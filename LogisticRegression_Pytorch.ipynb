{
  "nbformat": 4,
  "nbformat_minor": 0,
  "metadata": {
    "colab": {
      "provenance": [],
      "gpuType": "T4"
    },
    "kernelspec": {
      "name": "python3",
      "display_name": "Python 3"
    },
    "language_info": {
      "name": "python"
    },
    "accelerator": "GPU"
  },
  "cells": [
    {
      "cell_type": "code",
      "source": [
        "#Few example or approach to solve the problems\n",
        "#1:"
      ],
      "metadata": {
        "id": "fVKIM5_uK5nP"
      },
      "execution_count": 1,
      "outputs": []
    },
    {
      "cell_type": "markdown",
      "source": [],
      "metadata": {
        "id": "BFmnrPYgK4yB"
      }
    },
    {
      "cell_type": "code",
      "execution_count": 2,
      "metadata": {
        "id": "s8VOXJymH5WW"
      },
      "outputs": [],
      "source": [
        "import torch\n",
        "import torch.nn as nn\n",
        "import torch.nn.functional as F\n",
        "import matplotlib.pyplot as plt\n",
        "from torch.utils.data import DataLoader\n",
        "from torchvision import datasets, transforms\n"
      ]
    },
    {
      "cell_type": "code",
      "source": [
        "#1 Get ready data for transform\n",
        "train_dataset=datasets.FashionMNIST(root='./data',train=True,transform=transforms.ToTensor(),download=True)\n",
        "test_dataset=datasets.FashionMNIST(root='./data',train=False,transform=transforms.ToTensor(),download=True)"
      ],
      "metadata": {
        "colab": {
          "base_uri": "https://localhost:8080/"
        },
        "id": "nJ-jZ9kBQ97E",
        "outputId": "b4b966bb-22cd-4882-ed6e-3937a99b4986"
      },
      "execution_count": 3,
      "outputs": [
        {
          "output_type": "stream",
          "name": "stdout",
          "text": [
            "Downloading http://fashion-mnist.s3-website.eu-central-1.amazonaws.com/train-images-idx3-ubyte.gz\n",
            "Downloading http://fashion-mnist.s3-website.eu-central-1.amazonaws.com/train-images-idx3-ubyte.gz to ./data/FashionMNIST/raw/train-images-idx3-ubyte.gz\n"
          ]
        },
        {
          "output_type": "stream",
          "name": "stderr",
          "text": [
            "100%|██████████| 26.4M/26.4M [00:02<00:00, 10.6MB/s]\n"
          ]
        },
        {
          "output_type": "stream",
          "name": "stdout",
          "text": [
            "Extracting ./data/FashionMNIST/raw/train-images-idx3-ubyte.gz to ./data/FashionMNIST/raw\n",
            "\n",
            "Downloading http://fashion-mnist.s3-website.eu-central-1.amazonaws.com/train-labels-idx1-ubyte.gz\n",
            "Downloading http://fashion-mnist.s3-website.eu-central-1.amazonaws.com/train-labels-idx1-ubyte.gz to ./data/FashionMNIST/raw/train-labels-idx1-ubyte.gz\n"
          ]
        },
        {
          "output_type": "stream",
          "name": "stderr",
          "text": [
            "100%|██████████| 29.5k/29.5k [00:00<00:00, 176kB/s]\n"
          ]
        },
        {
          "output_type": "stream",
          "name": "stdout",
          "text": [
            "Extracting ./data/FashionMNIST/raw/train-labels-idx1-ubyte.gz to ./data/FashionMNIST/raw\n",
            "\n",
            "Downloading http://fashion-mnist.s3-website.eu-central-1.amazonaws.com/t10k-images-idx3-ubyte.gz\n",
            "Downloading http://fashion-mnist.s3-website.eu-central-1.amazonaws.com/t10k-images-idx3-ubyte.gz to ./data/FashionMNIST/raw/t10k-images-idx3-ubyte.gz\n"
          ]
        },
        {
          "output_type": "stream",
          "name": "stderr",
          "text": [
            "100%|██████████| 4.42M/4.42M [00:01<00:00, 3.12MB/s]\n"
          ]
        },
        {
          "output_type": "stream",
          "name": "stdout",
          "text": [
            "Extracting ./data/FashionMNIST/raw/t10k-images-idx3-ubyte.gz to ./data/FashionMNIST/raw\n",
            "\n",
            "Downloading http://fashion-mnist.s3-website.eu-central-1.amazonaws.com/t10k-labels-idx1-ubyte.gz\n",
            "Downloading http://fashion-mnist.s3-website.eu-central-1.amazonaws.com/t10k-labels-idx1-ubyte.gz to ./data/FashionMNIST/raw/t10k-labels-idx1-ubyte.gz\n"
          ]
        },
        {
          "output_type": "stream",
          "name": "stderr",
          "text": [
            "100%|██████████| 5.15k/5.15k [00:00<00:00, 6.39MB/s]"
          ]
        },
        {
          "output_type": "stream",
          "name": "stdout",
          "text": [
            "Extracting ./data/FashionMNIST/raw/t10k-labels-idx1-ubyte.gz to ./data/FashionMNIST/raw\n",
            "\n"
          ]
        },
        {
          "output_type": "stream",
          "name": "stderr",
          "text": [
            "\n"
          ]
        }
      ]
    },
    {
      "cell_type": "code",
      "source": [
        "train_dataset"
      ],
      "metadata": {
        "colab": {
          "base_uri": "https://localhost:8080/"
        },
        "id": "wBKPkEsbQ8Ty",
        "outputId": "87d61db7-3bda-4baa-d087-894c83c72c79"
      },
      "execution_count": 4,
      "outputs": [
        {
          "output_type": "execute_result",
          "data": {
            "text/plain": [
              "Dataset FashionMNIST\n",
              "    Number of datapoints: 60000\n",
              "    Root location: ./data\n",
              "    Split: Train\n",
              "    StandardTransform\n",
              "Transform: ToTensor()"
            ]
          },
          "metadata": {},
          "execution_count": 4
        }
      ]
    },
    {
      "cell_type": "code",
      "source": [
        "test_dataset"
      ],
      "metadata": {
        "colab": {
          "base_uri": "https://localhost:8080/"
        },
        "id": "8BxirOURR0q8",
        "outputId": "72fca0e0-9c58-4a0b-a4d3-86044d42431e"
      },
      "execution_count": 5,
      "outputs": [
        {
          "output_type": "execute_result",
          "data": {
            "text/plain": [
              "Dataset FashionMNIST\n",
              "    Number of datapoints: 10000\n",
              "    Root location: ./data\n",
              "    Split: Test\n",
              "    StandardTransform\n",
              "Transform: ToTensor()"
            ]
          },
          "metadata": {},
          "execution_count": 5
        }
      ]
    },
    {
      "cell_type": "code",
      "source": [
        "#Make them batches\n",
        "train_dataset_loader = DataLoader(train_dataset,batch_size=64,shuffle=True)\n",
        "test_dataset_loader = DataLoader(test_dataset,batch_size=64,shuffle=True)"
      ],
      "metadata": {
        "id": "EjdzCch1R23H"
      },
      "execution_count": 6,
      "outputs": []
    },
    {
      "cell_type": "code",
      "source": [
        "len(train_dataset_loader)"
      ],
      "metadata": {
        "colab": {
          "base_uri": "https://localhost:8080/"
        },
        "id": "C_i16uthSqz5",
        "outputId": "803d1b23-e0a9-4b72-cb7b-f662daec3882"
      },
      "execution_count": 7,
      "outputs": [
        {
          "output_type": "execute_result",
          "data": {
            "text/plain": [
              "938"
            ]
          },
          "metadata": {},
          "execution_count": 7
        }
      ]
    },
    {
      "cell_type": "code",
      "source": [
        "#build logistic Model\n",
        "class LogisticRegressionModel(nn.Module):\n",
        "    def __init__(self,in_dim,out_dim):\n",
        "        super().__init__()\n",
        "        self.linear = nn.Linear(in_dim,out_dim)\n",
        "\n",
        "    def forward(self,x):\n",
        "      res=self.linear(x)\n",
        "      return res\n",
        ""
      ],
      "metadata": {
        "id": "sQOFfyNcSsto"
      },
      "execution_count": 8,
      "outputs": []
    },
    {
      "cell_type": "code",
      "source": [
        "model = LogisticRegressionModel(28*28,10)"
      ],
      "metadata": {
        "id": "RmS8n61CZ8A1"
      },
      "execution_count": 9,
      "outputs": []
    },
    {
      "cell_type": "code",
      "source": [
        "model.state_dict()"
      ],
      "metadata": {
        "colab": {
          "base_uri": "https://localhost:8080/"
        },
        "id": "vexH_9J1aFOr",
        "outputId": "f34e30ef-0572-4f08-c730-084094ee5fe4"
      },
      "execution_count": 10,
      "outputs": [
        {
          "output_type": "execute_result",
          "data": {
            "text/plain": [
              "OrderedDict([('linear.weight',\n",
              "              tensor([[-0.0004,  0.0084, -0.0261,  ..., -0.0020, -0.0030, -0.0286],\n",
              "                      [ 0.0103, -0.0051, -0.0224,  ...,  0.0297,  0.0143, -0.0312],\n",
              "                      [-0.0238, -0.0233, -0.0085,  ...,  0.0351, -0.0197,  0.0250],\n",
              "                      ...,\n",
              "                      [-0.0076, -0.0271,  0.0226,  ..., -0.0248,  0.0105,  0.0295],\n",
              "                      [-0.0121,  0.0259,  0.0084,  ...,  0.0298,  0.0029, -0.0285],\n",
              "                      [ 0.0345,  0.0194,  0.0023,  ..., -0.0089, -0.0181, -0.0061]])),\n",
              "             ('linear.bias',\n",
              "              tensor([ 0.0194,  0.0114,  0.0199,  0.0244, -0.0138, -0.0122, -0.0185, -0.0046,\n",
              "                       0.0094,  0.0212]))])"
            ]
          },
          "metadata": {},
          "execution_count": 10
        }
      ]
    },
    {
      "cell_type": "code",
      "source": [
        "model"
      ],
      "metadata": {
        "colab": {
          "base_uri": "https://localhost:8080/"
        },
        "id": "ARLNwNPQaILd",
        "outputId": "7b8f8363-abf5-4128-f9ac-ce3a6daa8438"
      },
      "execution_count": 11,
      "outputs": [
        {
          "output_type": "execute_result",
          "data": {
            "text/plain": [
              "LogisticRegressionModel(\n",
              "  (linear): Linear(in_features=784, out_features=10, bias=True)\n",
              ")"
            ]
          },
          "metadata": {},
          "execution_count": 11
        }
      ]
    },
    {
      "cell_type": "code",
      "source": [
        "device =\"cuda\" if torch.cuda.is_available() else \"cpu\"\n",
        "print(f\"Using {device} device\")"
      ],
      "metadata": {
        "colab": {
          "base_uri": "https://localhost:8080/"
        },
        "id": "1T5EDlALavba",
        "outputId": "5caae2bf-2e6a-4aaf-8227-3555ba715a77"
      },
      "execution_count": 12,
      "outputs": [
        {
          "output_type": "stream",
          "name": "stdout",
          "text": [
            "Using cuda device\n"
          ]
        }
      ]
    },
    {
      "cell_type": "code",
      "source": [
        "#Now loss function and optimizer\n",
        "model = model.to(device)\n",
        "loss_fn = nn.CrossEntropyLoss()\n",
        "optimizer = torch.optim.SGD(model.parameters(),lr=0.01)"
      ],
      "metadata": {
        "id": "Y693UZcMaKtB"
      },
      "execution_count": 22,
      "outputs": []
    },
    {
      "cell_type": "code",
      "source": [
        "#Now build the model\n",
        "epochs = 20\n",
        "\n",
        "for i in range(epochs):\n",
        "  print(\"***************\")\n",
        "  print(f\"epochs\",{epochs + 1})\n",
        "  running_loss = 0.0\n",
        "  running_acc = 0.0\n",
        "  model.train()\n",
        "  for i , data in enumerate(train_dataset_loader,1):\n",
        "    image,label = data\n",
        "    image = image.view(image.size(0),-1)\n",
        "    image = image.to(device) #load on gpu\n",
        "    label = label.to(device)\n",
        "    res = model(image) #forward pass batch by batch\n",
        "    loss = loss_fn(res,label)\n",
        "    running_loss += loss.item()\n",
        "    _,preds = torch.max(res,1)\n",
        "    running_acc += (preds == label.data).float().mean()\n",
        "    optimizer.zero_grad()\n",
        "    loss.backward()\n",
        "    optimizer.step() #update gradient\n",
        "\n",
        "    if i % 300 == 0:\n",
        "      print(f'[{i+1}/ {i}] loss: {running_loss/i:6f}, acc: {running_acc/i:6f}')\n",
        "  print(f'[{i+1}/ {i}] loss: {running_loss/i:6f}, acc: {running_acc/i:6f}')\n",
        ""
      ],
      "metadata": {
        "colab": {
          "base_uri": "https://localhost:8080/"
        },
        "id": "MBRTISE7aktI",
        "outputId": "647c11e8-6884-4feb-f838-adf6c434b061"
      },
      "execution_count": 23,
      "outputs": [
        {
          "output_type": "stream",
          "name": "stdout",
          "text": [
            "***************\n",
            "epochs {21}\n",
            "[301/ 300] loss: 0.365414, acc: 0.878438\n",
            "[601/ 600] loss: 0.363463, acc: 0.876719\n",
            "[901/ 900] loss: 0.363267, acc: 0.876163\n",
            "[939/ 938] loss: 0.362825, acc: 0.876283\n",
            "***************\n",
            "epochs {21}\n",
            "[301/ 300] loss: 0.352182, acc: 0.879010\n",
            "[601/ 600] loss: 0.347884, acc: 0.879375\n",
            "[901/ 900] loss: 0.353290, acc: 0.878090\n",
            "[939/ 938] loss: 0.352668, acc: 0.878781\n",
            "***************\n",
            "epochs {21}\n",
            "[301/ 300] loss: 0.360328, acc: 0.876563\n",
            "[601/ 600] loss: 0.353271, acc: 0.878333\n",
            "[901/ 900] loss: 0.351159, acc: 0.878924\n",
            "[939/ 938] loss: 0.349800, acc: 0.879364\n",
            "***************\n",
            "epochs {21}\n",
            "[301/ 300] loss: 0.358238, acc: 0.876146\n",
            "[601/ 600] loss: 0.354467, acc: 0.877786\n",
            "[901/ 900] loss: 0.349323, acc: 0.879306\n",
            "[939/ 938] loss: 0.348053, acc: 0.879514\n",
            "***************\n",
            "epochs {21}\n",
            "[301/ 300] loss: 0.336293, acc: 0.881823\n",
            "[601/ 600] loss: 0.342181, acc: 0.880677\n",
            "[901/ 900] loss: 0.346237, acc: 0.880069\n",
            "[939/ 938] loss: 0.346543, acc: 0.880064\n",
            "***************\n",
            "epochs {21}\n",
            "[301/ 300] loss: 0.352786, acc: 0.879271\n",
            "[601/ 600] loss: 0.346262, acc: 0.880104\n",
            "[901/ 900] loss: 0.346040, acc: 0.880052\n",
            "[939/ 938] loss: 0.345800, acc: 0.879748\n",
            "***************\n",
            "epochs {21}\n",
            "[301/ 300] loss: 0.343030, acc: 0.878594\n",
            "[601/ 600] loss: 0.344063, acc: 0.878906\n",
            "[901/ 900] loss: 0.344382, acc: 0.879931\n",
            "[939/ 938] loss: 0.344684, acc: 0.879847\n",
            "***************\n",
            "epochs {21}\n",
            "[301/ 300] loss: 0.351627, acc: 0.877813\n",
            "[601/ 600] loss: 0.343524, acc: 0.880260\n",
            "[901/ 900] loss: 0.345759, acc: 0.880139\n",
            "[939/ 938] loss: 0.344078, acc: 0.880447\n",
            "***************\n",
            "epochs {21}\n",
            "[301/ 300] loss: 0.348320, acc: 0.878542\n",
            "[601/ 600] loss: 0.344773, acc: 0.878333\n",
            "[901/ 900] loss: 0.343470, acc: 0.879792\n",
            "[939/ 938] loss: 0.343527, acc: 0.879714\n",
            "***************\n",
            "epochs {21}\n",
            "[301/ 300] loss: 0.345552, acc: 0.880000\n",
            "[601/ 600] loss: 0.342825, acc: 0.880365\n",
            "[901/ 900] loss: 0.343238, acc: 0.880417\n",
            "[939/ 938] loss: 0.343402, acc: 0.880414\n",
            "***************\n",
            "epochs {21}\n",
            "[301/ 300] loss: 0.344040, acc: 0.879167\n",
            "[601/ 600] loss: 0.344090, acc: 0.879427\n",
            "[901/ 900] loss: 0.342420, acc: 0.880017\n",
            "[939/ 938] loss: 0.343013, acc: 0.880014\n",
            "***************\n",
            "epochs {21}\n",
            "[301/ 300] loss: 0.338952, acc: 0.879271\n",
            "[601/ 600] loss: 0.340619, acc: 0.880885\n",
            "[901/ 900] loss: 0.340859, acc: 0.880469\n",
            "[939/ 938] loss: 0.342317, acc: 0.880231\n",
            "***************\n",
            "epochs {21}\n",
            "[301/ 300] loss: 0.344528, acc: 0.882448\n",
            "[601/ 600] loss: 0.340817, acc: 0.881016\n",
            "[901/ 900] loss: 0.341409, acc: 0.880434\n",
            "[939/ 938] loss: 0.341841, acc: 0.880331\n",
            "***************\n",
            "epochs {21}\n",
            "[301/ 300] loss: 0.333764, acc: 0.883542\n",
            "[601/ 600] loss: 0.341778, acc: 0.880625\n",
            "[901/ 900] loss: 0.341561, acc: 0.879896\n",
            "[939/ 938] loss: 0.341464, acc: 0.879897\n",
            "***************\n",
            "epochs {21}\n",
            "[301/ 300] loss: 0.340221, acc: 0.881146\n",
            "[601/ 600] loss: 0.340518, acc: 0.880677\n",
            "[901/ 900] loss: 0.341685, acc: 0.880556\n",
            "[939/ 938] loss: 0.341141, acc: 0.880414\n",
            "***************\n",
            "epochs {21}\n",
            "[301/ 300] loss: 0.348875, acc: 0.877656\n",
            "[601/ 600] loss: 0.345019, acc: 0.878672\n",
            "[901/ 900] loss: 0.341547, acc: 0.880069\n",
            "[939/ 938] loss: 0.340981, acc: 0.880314\n",
            "***************\n",
            "epochs {21}\n",
            "[301/ 300] loss: 0.334032, acc: 0.883073\n",
            "[601/ 600] loss: 0.335164, acc: 0.881927\n",
            "[901/ 900] loss: 0.340685, acc: 0.880833\n",
            "[939/ 938] loss: 0.340786, acc: 0.880747\n",
            "***************\n",
            "epochs {21}\n",
            "[301/ 300] loss: 0.338487, acc: 0.881771\n",
            "[601/ 600] loss: 0.341522, acc: 0.880573\n",
            "[901/ 900] loss: 0.340232, acc: 0.880538\n",
            "[939/ 938] loss: 0.340435, acc: 0.880281\n",
            "***************\n",
            "epochs {21}\n",
            "[301/ 300] loss: 0.340069, acc: 0.880990\n",
            "[601/ 600] loss: 0.342195, acc: 0.880104\n",
            "[901/ 900] loss: 0.339470, acc: 0.880469\n",
            "[939/ 938] loss: 0.340642, acc: 0.880114\n",
            "***************\n",
            "epochs {21}\n",
            "[301/ 300] loss: 0.351480, acc: 0.878802\n",
            "[601/ 600] loss: 0.345197, acc: 0.879219\n",
            "[901/ 900] loss: 0.340468, acc: 0.880347\n",
            "[939/ 938] loss: 0.340070, acc: 0.880264\n"
          ]
        }
      ]
    },
    {
      "cell_type": "code",
      "source": [
        "len(test_dataset_loader)"
      ],
      "metadata": {
        "colab": {
          "base_uri": "https://localhost:8080/"
        },
        "id": "nhl_E4UnkIpT",
        "outputId": "d2df00ef-6ccd-4f40-ec62-520f4f78105a"
      },
      "execution_count": 24,
      "outputs": [
        {
          "output_type": "execute_result",
          "data": {
            "text/plain": [
              "157"
            ]
          },
          "metadata": {},
          "execution_count": 24
        }
      ]
    },
    {
      "cell_type": "code",
      "source": [
        "#Now evaluate the Model\n",
        "\n",
        "model.eval()\n",
        "val_acc = 0.0\n",
        "val_loss = 0.0\n",
        "for data in test_dataset_loader:\n",
        "  image,label = data\n",
        "  image = image.view(image.size(0),-1)\n",
        "  image = image.to(device)\n",
        "  label = label.to(device)\n",
        "  with torch.no_grad():\n",
        "\n",
        "    res = model(image)\n",
        "    loss = loss_fn(res,label)\n",
        "  val_loss += loss.item()\n",
        "  _,preds = torch.max(res,1) #to get the max value\n",
        "  val_acc += (preds == label).float().mean()\n",
        "\n",
        "  print(f'val_loss: {val_loss/len(test_dataset_loader):6f}, val_acc: {val_acc/len(test_dataset_loader):6f}')\n"
      ],
      "metadata": {
        "colab": {
          "base_uri": "https://localhost:8080/"
        },
        "id": "CL-x4RbgfuMv",
        "outputId": "7778d0c4-a112-4df1-94f4-b7b539e0ba25"
      },
      "execution_count": 25,
      "outputs": [
        {
          "output_type": "stream",
          "name": "stdout",
          "text": [
            "val_loss: 0.003529, val_acc: 0.006071\n",
            "val_loss: 0.006594, val_acc: 0.011246\n",
            "val_loss: 0.010113, val_acc: 0.016222\n",
            "val_loss: 0.011910, val_acc: 0.021994\n",
            "val_loss: 0.014371, val_acc: 0.027369\n",
            "val_loss: 0.017427, val_acc: 0.032942\n",
            "val_loss: 0.024008, val_acc: 0.037719\n",
            "val_loss: 0.026907, val_acc: 0.043292\n",
            "val_loss: 0.028905, val_acc: 0.049064\n",
            "val_loss: 0.031701, val_acc: 0.054339\n",
            "val_loss: 0.034519, val_acc: 0.059713\n",
            "val_loss: 0.036790, val_acc: 0.064988\n",
            "val_loss: 0.039372, val_acc: 0.070263\n",
            "val_loss: 0.042097, val_acc: 0.075537\n",
            "val_loss: 0.044277, val_acc: 0.081111\n",
            "val_loss: 0.046480, val_acc: 0.086584\n",
            "val_loss: 0.050773, val_acc: 0.091361\n",
            "val_loss: 0.052035, val_acc: 0.097233\n",
            "val_loss: 0.056347, val_acc: 0.102408\n",
            "val_loss: 0.058891, val_acc: 0.107683\n",
            "val_loss: 0.062099, val_acc: 0.113157\n",
            "val_loss: 0.065775, val_acc: 0.118531\n",
            "val_loss: 0.068237, val_acc: 0.124104\n",
            "val_loss: 0.072335, val_acc: 0.129379\n",
            "val_loss: 0.076549, val_acc: 0.134455\n",
            "val_loss: 0.079067, val_acc: 0.140127\n",
            "val_loss: 0.081845, val_acc: 0.145502\n",
            "val_loss: 0.083965, val_acc: 0.151174\n",
            "val_loss: 0.087532, val_acc: 0.156449\n",
            "val_loss: 0.091045, val_acc: 0.161525\n",
            "val_loss: 0.093889, val_acc: 0.166799\n",
            "val_loss: 0.096110, val_acc: 0.172074\n",
            "val_loss: 0.100546, val_acc: 0.177249\n",
            "val_loss: 0.104122, val_acc: 0.182126\n",
            "val_loss: 0.107591, val_acc: 0.187102\n",
            "val_loss: 0.112104, val_acc: 0.192377\n",
            "val_loss: 0.114944, val_acc: 0.197850\n",
            "val_loss: 0.118785, val_acc: 0.203125\n",
            "val_loss: 0.120169, val_acc: 0.208997\n",
            "val_loss: 0.123116, val_acc: 0.214570\n",
            "val_loss: 0.125676, val_acc: 0.219745\n",
            "val_loss: 0.127587, val_acc: 0.225318\n",
            "val_loss: 0.131685, val_acc: 0.230394\n",
            "val_loss: 0.135182, val_acc: 0.235072\n",
            "val_loss: 0.137759, val_acc: 0.240446\n",
            "val_loss: 0.140301, val_acc: 0.246019\n",
            "val_loss: 0.143482, val_acc: 0.251692\n",
            "val_loss: 0.145802, val_acc: 0.257265\n",
            "val_loss: 0.148668, val_acc: 0.262440\n",
            "val_loss: 0.151967, val_acc: 0.267615\n",
            "val_loss: 0.154540, val_acc: 0.273388\n",
            "val_loss: 0.162097, val_acc: 0.278165\n",
            "val_loss: 0.162962, val_acc: 0.284236\n",
            "val_loss: 0.167130, val_acc: 0.289311\n",
            "val_loss: 0.170188, val_acc: 0.294984\n",
            "val_loss: 0.174993, val_acc: 0.300159\n",
            "val_loss: 0.178947, val_acc: 0.305633\n",
            "val_loss: 0.183371, val_acc: 0.310510\n",
            "val_loss: 0.186759, val_acc: 0.315685\n",
            "val_loss: 0.188799, val_acc: 0.321258\n",
            "val_loss: 0.192216, val_acc: 0.326533\n",
            "val_loss: 0.194628, val_acc: 0.332106\n",
            "val_loss: 0.197383, val_acc: 0.337480\n",
            "val_loss: 0.200079, val_acc: 0.342854\n",
            "val_loss: 0.202627, val_acc: 0.348328\n",
            "val_loss: 0.205909, val_acc: 0.353802\n",
            "val_loss: 0.208068, val_acc: 0.359674\n",
            "val_loss: 0.209802, val_acc: 0.365545\n",
            "val_loss: 0.214333, val_acc: 0.370522\n",
            "val_loss: 0.218091, val_acc: 0.375398\n",
            "val_loss: 0.221854, val_acc: 0.380772\n",
            "val_loss: 0.224670, val_acc: 0.385649\n",
            "val_loss: 0.227151, val_acc: 0.391421\n",
            "val_loss: 0.229849, val_acc: 0.397094\n",
            "val_loss: 0.231720, val_acc: 0.402767\n",
            "val_loss: 0.234211, val_acc: 0.408141\n",
            "val_loss: 0.235636, val_acc: 0.413814\n",
            "val_loss: 0.238190, val_acc: 0.419088\n",
            "val_loss: 0.241667, val_acc: 0.424363\n",
            "val_loss: 0.246534, val_acc: 0.429240\n",
            "val_loss: 0.250678, val_acc: 0.434813\n",
            "val_loss: 0.253725, val_acc: 0.440585\n",
            "val_loss: 0.259653, val_acc: 0.445760\n",
            "val_loss: 0.262066, val_acc: 0.451533\n",
            "val_loss: 0.265199, val_acc: 0.456907\n",
            "val_loss: 0.268209, val_acc: 0.462381\n",
            "val_loss: 0.271480, val_acc: 0.467655\n",
            "val_loss: 0.272993, val_acc: 0.473428\n",
            "val_loss: 0.275447, val_acc: 0.478802\n",
            "val_loss: 0.279917, val_acc: 0.483877\n",
            "val_loss: 0.281904, val_acc: 0.489550\n",
            "val_loss: 0.285839, val_acc: 0.494725\n",
            "val_loss: 0.289217, val_acc: 0.500398\n",
            "val_loss: 0.292047, val_acc: 0.505474\n",
            "val_loss: 0.296061, val_acc: 0.510450\n",
            "val_loss: 0.301179, val_acc: 0.515525\n",
            "val_loss: 0.304783, val_acc: 0.520900\n",
            "val_loss: 0.306649, val_acc: 0.526373\n",
            "val_loss: 0.308824, val_acc: 0.532245\n",
            "val_loss: 0.312531, val_acc: 0.537420\n",
            "val_loss: 0.314626, val_acc: 0.542695\n",
            "val_loss: 0.317820, val_acc: 0.547970\n",
            "val_loss: 0.321275, val_acc: 0.553643\n",
            "val_loss: 0.323616, val_acc: 0.559216\n",
            "val_loss: 0.328092, val_acc: 0.563993\n",
            "val_loss: 0.331299, val_acc: 0.569068\n",
            "val_loss: 0.333095, val_acc: 0.574741\n",
            "val_loss: 0.335335, val_acc: 0.580613\n",
            "val_loss: 0.338807, val_acc: 0.585987\n",
            "val_loss: 0.341154, val_acc: 0.591262\n",
            "val_loss: 0.345055, val_acc: 0.596437\n",
            "val_loss: 0.348418, val_acc: 0.601911\n",
            "val_loss: 0.351236, val_acc: 0.607285\n",
            "val_loss: 0.354069, val_acc: 0.612759\n",
            "val_loss: 0.356649, val_acc: 0.618232\n",
            "val_loss: 0.358892, val_acc: 0.623706\n",
            "val_loss: 0.362714, val_acc: 0.628782\n",
            "val_loss: 0.367864, val_acc: 0.633658\n",
            "val_loss: 0.370717, val_acc: 0.638933\n",
            "val_loss: 0.373982, val_acc: 0.643909\n",
            "val_loss: 0.378630, val_acc: 0.649084\n",
            "val_loss: 0.381285, val_acc: 0.654558\n",
            "val_loss: 0.384113, val_acc: 0.660131\n",
            "val_loss: 0.387835, val_acc: 0.665207\n",
            "val_loss: 0.391388, val_acc: 0.670780\n",
            "val_loss: 0.394946, val_acc: 0.675756\n",
            "val_loss: 0.396928, val_acc: 0.681330\n",
            "val_loss: 0.399140, val_acc: 0.687102\n",
            "val_loss: 0.404366, val_acc: 0.692178\n",
            "val_loss: 0.407738, val_acc: 0.697253\n",
            "val_loss: 0.410617, val_acc: 0.702627\n",
            "val_loss: 0.414525, val_acc: 0.707902\n",
            "val_loss: 0.418342, val_acc: 0.712878\n",
            "val_loss: 0.419453, val_acc: 0.718850\n",
            "val_loss: 0.422785, val_acc: 0.724025\n",
            "val_loss: 0.427205, val_acc: 0.729498\n",
            "val_loss: 0.428768, val_acc: 0.734972\n",
            "val_loss: 0.433350, val_acc: 0.740346\n",
            "val_loss: 0.436345, val_acc: 0.745123\n",
            "val_loss: 0.439432, val_acc: 0.750100\n",
            "val_loss: 0.444213, val_acc: 0.754279\n",
            "val_loss: 0.446069, val_acc: 0.760151\n",
            "val_loss: 0.448943, val_acc: 0.765227\n",
            "val_loss: 0.453001, val_acc: 0.770203\n",
            "val_loss: 0.458020, val_acc: 0.775279\n",
            "val_loss: 0.460673, val_acc: 0.780653\n",
            "val_loss: 0.465186, val_acc: 0.786127\n",
            "val_loss: 0.467440, val_acc: 0.791401\n",
            "val_loss: 0.469327, val_acc: 0.797074\n",
            "val_loss: 0.471981, val_acc: 0.802846\n",
            "val_loss: 0.474061, val_acc: 0.808420\n",
            "val_loss: 0.477497, val_acc: 0.813794\n",
            "val_loss: 0.480132, val_acc: 0.819268\n",
            "val_loss: 0.484565, val_acc: 0.824642\n",
            "val_loss: 0.488534, val_acc: 0.829618\n",
            "val_loss: 0.490924, val_acc: 0.834793\n",
            "val_loss: 0.491893, val_acc: 0.840764\n"
          ]
        }
      ]
    },
    {
      "cell_type": "code",
      "source": [
        "#visualization how the model is working\n",
        "images,labels = next(iter(test_dataset_loader))\n",
        "images = images.reshape(-1,28*28).to(device)\n",
        "labels = labels.to(device)\n",
        "outputs = model(images)\n",
        "_,predicted = torch.max(outputs,1)\n",
        "fig ,ax = plt.subplots(1,5,figsize=(15,3)) #1 row and 5 columns\n",
        "for i in range(5):\n",
        "    ax[i].imshow(images[i].cpu().detach().numpy().reshape(28,28))\n",
        "    ax[i].set_title(f\"True:{labels[i].item()}, Pred:{predicted[i].item()}\")\n",
        "    ax[i].axis(\"off\")\n",
        "\n",
        "plt.show()\n"
      ],
      "metadata": {
        "colab": {
          "base_uri": "https://localhost:8080/",
          "height": 191
        },
        "id": "tQMaLzlGkcmT",
        "outputId": "c46d8588-c6c0-4f2e-fcee-a44b1b3abb03"
      },
      "execution_count": 26,
      "outputs": [
        {
          "output_type": "display_data",
          "data": {
            "text/plain": [
              "<Figure size 1500x300 with 5 Axes>"
            ],
            "image/png": "[encoded data removed]"
          },
          "metadata": {}
        }
      ]
    },
    {
      "cell_type": "code",
      "source": [
        "#save the model\n",
        "model.state_dict()\n",
        "torch.save(model.state_dict(),\"./model.pt\")"
      ],
      "metadata": {
        "id": "n4a_WlMfmgHR"
      },
      "execution_count": 27,
      "outputs": []
    },
    {
      "cell_type": "code",
      "source": [],
      "metadata": {
        "id": "t3DV0He2oMOg"
      },
      "execution_count": null,
      "outputs": []
    }
  ]
}