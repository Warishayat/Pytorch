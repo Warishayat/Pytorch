{
  "nbformat": 4,
  "nbformat_minor": 0,
  "metadata": {
    "colab": {
      "provenance": [],
      "gpuType": "T4"
    },
    "kernelspec": {
      "name": "python3",
      "display_name": "Python 3"
    },
    "language_info": {
      "name": "python"
    },
    "accelerator": "GPU"
  },
  "cells": [
    {
      "cell_type": "code",
      "execution_count": 1,
      "metadata": {
        "id": "HNd3fkowz-t7"
      },
      "outputs": [],
      "source": [
        "import torch"
      ]
    },
    {
      "cell_type": "code",
      "source": [
        "torch.cuda.is_available()"
      ],
      "metadata": {
        "colab": {
          "base_uri": "https://localhost:8080/"
        },
        "id": "RkrIb03C0COt",
        "outputId": "6f92353a-4355-4ba8-b780-a91e1430c3e4"
      },
      "execution_count": 2,
      "outputs": [
        {
          "output_type": "execute_result",
          "data": {
            "text/plain": [
              "True"
            ]
          },
          "metadata": {},
          "execution_count": 2
        }
      ]
    },
    {
      "cell_type": "code",
      "source": [
        "torch.cuda.device_count()"
      ],
      "metadata": {
        "colab": {
          "base_uri": "https://localhost:8080/"
        },
        "id": "ES9EGy5N0ErE",
        "outputId": "2f8b2e88-798a-439d-a725-3d7da503fccf"
      },
      "execution_count": 4,
      "outputs": [
        {
          "output_type": "execute_result",
          "data": {
            "text/plain": [
              "1"
            ]
          },
          "metadata": {},
          "execution_count": 4
        }
      ]
    },
    {
      "cell_type": "code",
      "source": [
        "torch.cuda.get_device_name(0)"
      ],
      "metadata": {
        "colab": {
          "base_uri": "https://localhost:8080/",
          "height": 35
        },
        "id": "b0185xqY0Lva",
        "outputId": "80b489b0-eef7-46e3-91ee-44871492aba6"
      },
      "execution_count": 5,
      "outputs": [
        {
          "output_type": "execute_result",
          "data": {
            "text/plain": [
              "'Tesla T4'"
            ],
            "application/vnd.google.colaboratory.intrinsic+json": {
              "type": "string"
            }
          },
          "metadata": {},
          "execution_count": 5
        }
      ]
    },
    {
      "cell_type": "markdown",
      "source": [
        "# **Element wise operation**"
      ],
      "metadata": {
        "id": "kDGa_cbY0RLm"
      }
    },
    {
      "cell_type": "code",
      "source": [
        "x = torch.tensor([[1,2,3],[4,5,6]])"
      ],
      "metadata": {
        "id": "zwYLc0KH0WJp"
      },
      "execution_count": 6,
      "outputs": []
    },
    {
      "cell_type": "code",
      "source": [
        "torch.clamp(x,min=2,max=4)"
      ],
      "metadata": {
        "colab": {
          "base_uri": "https://localhost:8080/"
        },
        "id": "rXI6UcLY0WD1",
        "outputId": "f4004771-08ec-46a9-ab8f-9169fa111d31"
      },
      "execution_count": 8,
      "outputs": [
        {
          "output_type": "execute_result",
          "data": {
            "text/plain": [
              "tensor([[2, 2, 3],\n",
              "        [4, 4, 4]])"
            ]
          },
          "metadata": {},
          "execution_count": 8
        }
      ]
    },
    {
      "cell_type": "markdown",
      "source": [
        "# **randint operation**"
      ],
      "metadata": {
        "id": "CLS_UV-A0vsZ"
      }
    },
    {
      "cell_type": "code",
      "source": [
        "e = torch.randint(size=(3,3),low=0,high=10,dtype=torch.float32)\n",
        "print(e)"
      ],
      "metadata": {
        "colab": {
          "base_uri": "https://localhost:8080/"
        },
        "id": "1J8aSJyf0WA5",
        "outputId": "8301469e-643e-4672-994d-103b489f4fbc"
      },
      "execution_count": 16,
      "outputs": [
        {
          "output_type": "stream",
          "name": "stdout",
          "text": [
            "tensor([[7., 8., 1.],\n",
            "        [2., 4., 0.],\n",
            "        [5., 7., 3.]])\n"
          ]
        }
      ]
    },
    {
      "cell_type": "markdown",
      "source": [
        "# **sum**"
      ],
      "metadata": {
        "id": "1tyQ48MQ1Mkc"
      }
    },
    {
      "cell_type": "code",
      "source": [
        "torch.sum(e)"
      ],
      "metadata": {
        "colab": {
          "base_uri": "https://localhost:8080/"
        },
        "id": "rfPK-wGR0V9n",
        "outputId": "65d85571-b8ce-43f0-ca43-ecbcccb42af2"
      },
      "execution_count": 11,
      "outputs": [
        {
          "output_type": "execute_result",
          "data": {
            "text/plain": [
              "tensor(44)"
            ]
          },
          "metadata": {},
          "execution_count": 11
        }
      ]
    },
    {
      "cell_type": "code",
      "source": [
        "torch.sum(e,dim=0) #0 for columns"
      ],
      "metadata": {
        "colab": {
          "base_uri": "https://localhost:8080/"
        },
        "id": "dOfqIDUs0V62",
        "outputId": "b4c0d00f-423e-47d5-ab21-f1d2b8c4045c"
      },
      "execution_count": 12,
      "outputs": [
        {
          "output_type": "execute_result",
          "data": {
            "text/plain": [
              "tensor([19, 13, 12])"
            ]
          },
          "metadata": {},
          "execution_count": 12
        }
      ]
    },
    {
      "cell_type": "code",
      "source": [
        "torch.sum(e,dim=1) # 1 for rows"
      ],
      "metadata": {
        "colab": {
          "base_uri": "https://localhost:8080/"
        },
        "id": "q9yU7D2k1Usr",
        "outputId": "e4c3c998-ae0a-4be3-b1c1-1976d0a3cc46"
      },
      "execution_count": 14,
      "outputs": [
        {
          "output_type": "execute_result",
          "data": {
            "text/plain": [
              "tensor([17,  7, 20])"
            ]
          },
          "metadata": {},
          "execution_count": 14
        }
      ]
    },
    {
      "cell_type": "code",
      "source": [
        "#Mean\n",
        "torch.mean(e)"
      ],
      "metadata": {
        "colab": {
          "base_uri": "https://localhost:8080/"
        },
        "id": "4bk23Snv1evG",
        "outputId": "bf0b9b39-8efc-4ac3-8d32-a394f6087648"
      },
      "execution_count": 17,
      "outputs": [
        {
          "output_type": "execute_result",
          "data": {
            "text/plain": [
              "tensor(4.1111)"
            ]
          },
          "metadata": {},
          "execution_count": 17
        }
      ]
    },
    {
      "cell_type": "code",
      "source": [
        "#Median\n",
        "torch.median(e)"
      ],
      "metadata": {
        "colab": {
          "base_uri": "https://localhost:8080/"
        },
        "id": "9hWH5x421lrx",
        "outputId": "578b85ac-a975-4b3a-e717-a7fbb299317e"
      },
      "execution_count": 18,
      "outputs": [
        {
          "output_type": "execute_result",
          "data": {
            "text/plain": [
              "tensor(4.)"
            ]
          },
          "metadata": {},
          "execution_count": 18
        }
      ]
    },
    {
      "cell_type": "code",
      "source": [
        "#Mode\n",
        "torch.mode(e)"
      ],
      "metadata": {
        "colab": {
          "base_uri": "https://localhost:8080/"
        },
        "id": "92wRIFVb13RJ",
        "outputId": "37c86e2d-01ec-4dd5-b846-12db976f020f"
      },
      "execution_count": 19,
      "outputs": [
        {
          "output_type": "execute_result",
          "data": {
            "text/plain": [
              "torch.return_types.mode(\n",
              "values=tensor([1., 0., 3.]),\n",
              "indices=tensor([2, 2, 2]))"
            ]
          },
          "metadata": {},
          "execution_count": 19
        }
      ]
    },
    {
      "cell_type": "code",
      "source": [
        "#max and min value\n",
        "print(torch.max(e))\n",
        "print(torch.min(e))"
      ],
      "metadata": {
        "colab": {
          "base_uri": "https://localhost:8080/"
        },
        "id": "B2ekdi0f15lQ",
        "outputId": "d75223e9-1ff2-47fb-97f6-0e86d7fcab35"
      },
      "execution_count": 20,
      "outputs": [
        {
          "output_type": "stream",
          "name": "stdout",
          "text": [
            "tensor(8.)\n",
            "tensor(0.)\n"
          ]
        }
      ]
    },
    {
      "cell_type": "code",
      "source": [
        "#standarization\n",
        "torch.std(e)"
      ],
      "metadata": {
        "colab": {
          "base_uri": "https://localhost:8080/"
        },
        "id": "OJ8z3bo82Jre",
        "outputId": "50822c12-24d8-4b4c-f257-686b30a9c2a0"
      },
      "execution_count": 21,
      "outputs": [
        {
          "output_type": "execute_result",
          "data": {
            "text/plain": [
              "tensor(2.8480)"
            ]
          },
          "metadata": {},
          "execution_count": 21
        }
      ]
    },
    {
      "cell_type": "code",
      "source": [
        "#argmax\n",
        "torch.argmax(e)"
      ],
      "metadata": {
        "colab": {
          "base_uri": "https://localhost:8080/"
        },
        "id": "gFOxD5wu2Nvz",
        "outputId": "50e2af93-293a-41d2-de7a-ae653a85ffac"
      },
      "execution_count": 22,
      "outputs": [
        {
          "output_type": "execute_result",
          "data": {
            "text/plain": [
              "tensor(1)"
            ]
          },
          "metadata": {},
          "execution_count": 22
        }
      ]
    },
    {
      "cell_type": "code",
      "source": [
        "#var\n",
        "torch.var(e)"
      ],
      "metadata": {
        "colab": {
          "base_uri": "https://localhost:8080/"
        },
        "id": "UVgkK6iT2Q4C",
        "outputId": "7b8dc4aa-383f-4947-834c-c6c44741c986"
      },
      "execution_count": 24,
      "outputs": [
        {
          "output_type": "execute_result",
          "data": {
            "text/plain": [
              "tensor(8.1111)"
            ]
          },
          "metadata": {},
          "execution_count": 24
        }
      ]
    },
    {
      "cell_type": "code",
      "source": [
        "#argmin\n",
        "#argmax\n",
        "torch.argmin(e)"
      ],
      "metadata": {
        "colab": {
          "base_uri": "https://localhost:8080/"
        },
        "id": "cfa4fDW72WC_",
        "outputId": "1ce19243-5b66-4c2f-8f06-efa06a0301dc"
      },
      "execution_count": 25,
      "outputs": [
        {
          "output_type": "execute_result",
          "data": {
            "text/plain": [
              "tensor(5)"
            ]
          },
          "metadata": {},
          "execution_count": 25
        }
      ]
    },
    {
      "cell_type": "code",
      "source": [
        "#transpose\n",
        "torch.t(e)"
      ],
      "metadata": {
        "colab": {
          "base_uri": "https://localhost:8080/"
        },
        "id": "QxFfSszT2cpY",
        "outputId": "baf647d6-ed73-45e4-cc2c-c63f0618eba1"
      },
      "execution_count": 26,
      "outputs": [
        {
          "output_type": "execute_result",
          "data": {
            "text/plain": [
              "tensor([[7., 2., 5.],\n",
              "        [8., 4., 7.],\n",
              "        [1., 0., 3.]])"
            ]
          },
          "metadata": {},
          "execution_count": 26
        }
      ]
    },
    {
      "cell_type": "code",
      "source": [
        "#determinnant\n",
        "\n",
        "x = torch.randint(size=(3,3),low=0,high=10,dtype=torch.float32)\n",
        "print(x)\n",
        "\n",
        "\n",
        "torch.det(x)"
      ],
      "metadata": {
        "colab": {
          "base_uri": "https://localhost:8080/"
        },
        "id": "sXov3uRg2oBb",
        "outputId": "4193f861-790b-4882-9686-83630adcef5a"
      },
      "execution_count": 29,
      "outputs": [
        {
          "output_type": "stream",
          "name": "stdout",
          "text": [
            "tensor([[8., 5., 3.],\n",
            "        [2., 9., 7.],\n",
            "        [4., 8., 4.]])\n"
          ]
        },
        {
          "output_type": "execute_result",
          "data": {
            "text/plain": [
              "tensor(-120.)"
            ]
          },
          "metadata": {},
          "execution_count": 29
        }
      ]
    },
    {
      "cell_type": "code",
      "source": [
        "#inverse\n",
        "torch.inverse(x)"
      ],
      "metadata": {
        "colab": {
          "base_uri": "https://localhost:8080/"
        },
        "id": "rqLjmmDE24su",
        "outputId": "383169c3-c53d-47bf-cdf6-fff736b5bbfe"
      },
      "execution_count": 30,
      "outputs": [
        {
          "output_type": "execute_result",
          "data": {
            "text/plain": [
              "tensor([[ 0.1667, -0.0333, -0.0667],\n",
              "        [-0.1667, -0.1667,  0.4167],\n",
              "        [ 0.1667,  0.3667, -0.5167]])"
            ]
          },
          "metadata": {},
          "execution_count": 30
        }
      ]
    },
    {
      "cell_type": "code",
      "source": [
        "#log , exp ,sqrt,softmax\n",
        "print(torch.softmax(x,dim=0))\n",
        "print(torch.log(x))\n",
        "print(torch.sqrt(x))\n",
        "print(torch.exp(x))"
      ],
      "metadata": {
        "colab": {
          "base_uri": "https://localhost:8080/"
        },
        "id": "x_fm6WRu3EIt",
        "outputId": "dee8783e-1cf1-4c71-bab9-56b6dbaf3f5b"
      },
      "execution_count": 32,
      "outputs": [
        {
          "output_type": "stream",
          "name": "stdout",
          "text": [
            "tensor([[0.9796, 0.0132, 0.0171],\n",
            "        [0.0024, 0.7214, 0.9362],\n",
            "        [0.0179, 0.2654, 0.0466]])\n",
            "tensor([[2.0794, 1.6094, 1.0986],\n",
            "        [0.6931, 2.1972, 1.9459],\n",
            "        [1.3863, 2.0794, 1.3863]])\n",
            "tensor([[2.8284, 2.2361, 1.7321],\n",
            "        [1.4142, 3.0000, 2.6458],\n",
            "        [2.0000, 2.8284, 2.0000]])\n",
            "tensor([[2.9810e+03, 1.4841e+02, 2.0086e+01],\n",
            "        [7.3891e+00, 8.1031e+03, 1.0966e+03],\n",
            "        [5.4598e+01, 2.9810e+03, 5.4598e+01]])\n"
          ]
        }
      ]
    },
    {
      "cell_type": "code",
      "source": [
        "#relu\n",
        "torch.relu(x)"
      ],
      "metadata": {
        "colab": {
          "base_uri": "https://localhost:8080/"
        },
        "id": "muMSRvPD3e73",
        "outputId": "c14ae078-89f1-476b-9c74-8faff1ecab74"
      },
      "execution_count": 33,
      "outputs": [
        {
          "output_type": "execute_result",
          "data": {
            "text/plain": [
              "tensor([[8., 5., 3.],\n",
              "        [2., 9., 7.],\n",
              "        [4., 8., 4.]])"
            ]
          },
          "metadata": {},
          "execution_count": 33
        }
      ]
    },
    {
      "cell_type": "markdown",
      "source": [
        "# **Copying a tensor**"
      ],
      "metadata": {
        "id": "UPhOXjXG4JSg"
      }
    },
    {
      "cell_type": "code",
      "source": [
        "x"
      ],
      "metadata": {
        "colab": {
          "base_uri": "https://localhost:8080/"
        },
        "id": "u4VhBU_14ERs",
        "outputId": "cdb3fcc0-8234-49f1-d3c7-229ed0b836f2"
      },
      "execution_count": 34,
      "outputs": [
        {
          "output_type": "execute_result",
          "data": {
            "text/plain": [
              "tensor([[8., 5., 3.],\n",
              "        [2., 9., 7.],\n",
              "        [4., 8., 4.]])"
            ]
          },
          "metadata": {},
          "execution_count": 34
        }
      ]
    },
    {
      "cell_type": "code",
      "source": [
        "b=x    #same memory location\n",
        "b"
      ],
      "metadata": {
        "colab": {
          "base_uri": "https://localhost:8080/"
        },
        "id": "7kGSvQ5j4M8w",
        "outputId": "ab799de1-a710-4d76-f3f1-a2f8b48c4148"
      },
      "execution_count": 39,
      "outputs": [
        {
          "output_type": "execute_result",
          "data": {
            "text/plain": [
              "tensor([[8., 5., 3.],\n",
              "        [2., 9., 7.],\n",
              "        [4., 8., 4.]])"
            ]
          },
          "metadata": {},
          "execution_count": 39
        }
      ]
    },
    {
      "cell_type": "code",
      "source": [
        "z = x.clone()  #diffrent memory location"
      ],
      "metadata": {
        "id": "3em-C7Y24Pud"
      },
      "execution_count": 36,
      "outputs": []
    },
    {
      "cell_type": "code",
      "source": [
        "id(z)"
      ],
      "metadata": {
        "colab": {
          "base_uri": "https://localhost:8080/"
        },
        "id": "gP2B-lIF4l0X",
        "outputId": "a4becbfa-213a-4421-8d84-738df6255cd1"
      },
      "execution_count": 37,
      "outputs": [
        {
          "output_type": "execute_result",
          "data": {
            "text/plain": [
              "134265773916000"
            ]
          },
          "metadata": {},
          "execution_count": 37
        }
      ]
    },
    {
      "cell_type": "code",
      "source": [
        "id(x)"
      ],
      "metadata": {
        "colab": {
          "base_uri": "https://localhost:8080/"
        },
        "id": "mki9Vnxg4myu",
        "outputId": "ea965716-9779-4752-e0ae-09f6d249a0a9"
      },
      "execution_count": 38,
      "outputs": [
        {
          "output_type": "execute_result",
          "data": {
            "text/plain": [
              "134265774597888"
            ]
          },
          "metadata": {},
          "execution_count": 38
        }
      ]
    },
    {
      "cell_type": "markdown",
      "source": [
        "# **tensor operation on gpu**"
      ],
      "metadata": {
        "id": "FbgSXBhV40AS"
      }
    },
    {
      "cell_type": "code",
      "source": [
        "torch.cuda.is_available()"
      ],
      "metadata": {
        "colab": {
          "base_uri": "https://localhost:8080/"
        },
        "id": "Yb4eYDpI4qLK",
        "outputId": "59758b9a-27cc-4290-bfbb-77788788e624"
      },
      "execution_count": 41,
      "outputs": [
        {
          "output_type": "execute_result",
          "data": {
            "text/plain": [
              "True"
            ]
          },
          "metadata": {},
          "execution_count": 41
        }
      ]
    },
    {
      "cell_type": "code",
      "source": [
        "device = torch.device('cuda')"
      ],
      "metadata": {
        "id": "wgQMf4GF456U"
      },
      "execution_count": 42,
      "outputs": []
    },
    {
      "cell_type": "code",
      "source": [
        "#now tensor on gpu\n",
        "\n",
        "torch.rand(3,3).to(device) #this tensor will make on the gpu not on the cpu."
      ],
      "metadata": {
        "colab": {
          "base_uri": "https://localhost:8080/"
        },
        "id": "WfEbH5_R5J2a",
        "outputId": "e6a32f63-0f7f-4570-deab-3a531c84aea0"
      },
      "execution_count": 43,
      "outputs": [
        {
          "output_type": "execute_result",
          "data": {
            "text/plain": [
              "tensor([[0.5479, 0.8655, 0.0661],\n",
              "        [0.5748, 0.4850, 0.7475],\n",
              "        [0.1058, 0.4881, 0.8535]], device='cuda:0')"
            ]
          },
          "metadata": {},
          "execution_count": 43
        }
      ]
    },
    {
      "cell_type": "code",
      "source": [
        "x   #cpu tensor which occupied the cpu memory"
      ],
      "metadata": {
        "colab": {
          "base_uri": "https://localhost:8080/"
        },
        "id": "25FTNclo5a5P",
        "outputId": "2cc652b3-93da-429c-ac95-133b320da833"
      },
      "execution_count": 44,
      "outputs": [
        {
          "output_type": "execute_result",
          "data": {
            "text/plain": [
              "tensor([[8., 5., 3.],\n",
              "        [2., 9., 7.],\n",
              "        [4., 8., 4.]])"
            ]
          },
          "metadata": {},
          "execution_count": 44
        }
      ]
    },
    {
      "cell_type": "code",
      "source": [
        "z=x.to(device) #existing function will move to gpu"
      ],
      "metadata": {
        "id": "N-LSxqD35gcs"
      },
      "execution_count": 46,
      "outputs": []
    },
    {
      "cell_type": "code",
      "source": [
        "import time\n",
        "\n",
        "size = 10000\n",
        "\n",
        "x = torch.rand(size,size)\n",
        "y = torch.rand(size,size)\n",
        "\n",
        "start = time.time()\n",
        "\n",
        "z = torch.matmul(x,y)\n",
        "\n",
        "end = time.time()\n",
        "\n",
        "print(end-start)"
      ],
      "metadata": {
        "colab": {
          "base_uri": "https://localhost:8080/"
        },
        "id": "a4SCDvYg5oKL",
        "outputId": "880dbd33-5915-40a5-fdb6-5481d172916b"
      },
      "execution_count": 47,
      "outputs": [
        {
          "output_type": "stream",
          "name": "stdout",
          "text": [
            "15.193551063537598\n"
          ]
        }
      ]
    },
    {
      "cell_type": "code",
      "source": [
        "import time\n",
        "\n",
        "start = time.time()\n",
        "\n",
        "size = 10000\n",
        "\n",
        "x = torch.rand(size,size).to(device)\n",
        "y = torch.rand(size,size).to(device)\n",
        "\n",
        "z = torch.matmul(x,y).to(device)\n",
        "\n",
        "end = time.time()\n",
        "\n",
        "print(end-start)"
      ],
      "metadata": {
        "colab": {
          "base_uri": "https://localhost:8080/"
        },
        "id": "Bixut3sR6BZf",
        "outputId": "3233627f-4f73-4741-f81b-6ec102a46820"
      },
      "execution_count": 48,
      "outputs": [
        {
          "output_type": "stream",
          "name": "stdout",
          "text": [
            "2.2223315238952637\n"
          ]
        }
      ]
    },
    {
      "cell_type": "markdown",
      "source": [
        "# ***Reshaping Tensor***"
      ],
      "metadata": {
        "id": "FVz-wY4Z6m7-"
      }
    },
    {
      "cell_type": "code",
      "source": [
        "m = torch.rand(3,3)\n",
        "print(m.shape)"
      ],
      "metadata": {
        "colab": {
          "base_uri": "https://localhost:8080/"
        },
        "id": "MnOdmdUd6SQX",
        "outputId": "281d50b8-1786-4012-b956-096ecc8ed966"
      },
      "execution_count": 52,
      "outputs": [
        {
          "output_type": "stream",
          "name": "stdout",
          "text": [
            "torch.Size([3, 3])\n"
          ]
        }
      ]
    },
    {
      "cell_type": "code",
      "source": [
        "m.flatten() #single row or 1d array"
      ],
      "metadata": {
        "colab": {
          "base_uri": "https://localhost:8080/"
        },
        "id": "xBa4IxUS6qa8",
        "outputId": "2e6a51b9-1ccb-4168-9ba1-e8e16ca64363"
      },
      "execution_count": 60,
      "outputs": [
        {
          "output_type": "execute_result",
          "data": {
            "text/plain": [
              "tensor([0.2563, 0.4733, 0.4074, 0.4743, 0.4004, 0.6537, 0.8308, 0.4884, 0.0143])"
            ]
          },
          "metadata": {},
          "execution_count": 60
        }
      ]
    },
    {
      "cell_type": "code",
      "source": [
        "#unsqueez\n",
        "x = torch.rand(256,256,3)\n",
        "print(x.shape)\n",
        "x.unsqueeze(dim=0).shape"
      ],
      "metadata": {
        "colab": {
          "base_uri": "https://localhost:8080/"
        },
        "id": "GQROIWdG62bX",
        "outputId": "b571c93c-8b4c-4547-9f1c-6d402589569c"
      },
      "execution_count": 66,
      "outputs": [
        {
          "output_type": "stream",
          "name": "stdout",
          "text": [
            "torch.Size([256, 256, 3])\n"
          ]
        },
        {
          "output_type": "execute_result",
          "data": {
            "text/plain": [
              "torch.Size([1, 256, 256, 3])"
            ]
          },
          "metadata": {},
          "execution_count": 66
        }
      ]
    },
    {
      "cell_type": "code",
      "source": [
        "x.squeeze(dim=0).shape"
      ],
      "metadata": {
        "colab": {
          "base_uri": "https://localhost:8080/"
        },
        "id": "ODPYIAd47wCv",
        "outputId": "9666bca8-aa4a-474a-fe51-a8b34429200f"
      },
      "execution_count": 67,
      "outputs": [
        {
          "output_type": "execute_result",
          "data": {
            "text/plain": [
              "torch.Size([256, 256, 3])"
            ]
          },
          "metadata": {},
          "execution_count": 67
        }
      ]
    },
    {
      "cell_type": "code",
      "source": [
        "import numpy as np"
      ],
      "metadata": {
        "id": "UVkNq18-8UR1"
      },
      "execution_count": 68,
      "outputs": []
    },
    {
      "cell_type": "code",
      "source": [],
      "metadata": {
        "id": "rJFKXOkX8eMZ"
      },
      "execution_count": null,
      "outputs": []
    }
  ]
}