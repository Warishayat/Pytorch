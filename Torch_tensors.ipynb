{
  "nbformat": 4,
  "nbformat_minor": 0,
  "metadata": {
    "colab": {
      "provenance": [],
      "gpuType": "T4"
    },
    "kernelspec": {
      "name": "python3",
      "display_name": "Python 3"
    },
    "language_info": {
      "name": "python"
    },
    "accelerator": "GPU"
  },
  "cells": [
    {
      "cell_type": "code",
      "execution_count": 1,
      "metadata": {
        "id": "6D027YVxiiWY"
      },
      "outputs": [],
      "source": [
        "import torch #import torch"
      ]
    },
    {
      "cell_type": "code",
      "source": [
        "print(torch.__version__)"
      ],
      "metadata": {
        "colab": {
          "base_uri": "https://localhost:8080/",
          "height": 0
        },
        "id": "BW4DG5W3in4K",
        "outputId": "dca36329-80b9-4f97-f164-70038a37ec7b"
      },
      "execution_count": 2,
      "outputs": [
        {
          "output_type": "stream",
          "name": "stdout",
          "text": [
            "2.5.1+cu121\n"
          ]
        }
      ]
    },
    {
      "cell_type": "code",
      "source": [
        "if torch.cuda.is_available(): #cuda to check the gpu is haega k nai\n",
        "    print(f\"Gpu haega {torch.cuda.get_device_name(0)}\") #0 for number of gpu\n",
        "else:\n",
        "    print(\"Gpu koni hae\")\n"
      ],
      "metadata": {
        "colab": {
          "base_uri": "https://localhost:8080/",
          "height": 0
        },
        "id": "2rKDsX0IiuOb",
        "outputId": "02e1381e-c9b4-4e15-aec1-1651ed9f9289"
      },
      "execution_count": 11,
      "outputs": [
        {
          "output_type": "stream",
          "name": "stdout",
          "text": [
            "Gpu haega Tesla T4\n"
          ]
        }
      ]
    },
    {
      "cell_type": "markdown",
      "source": [
        "# **Creating a Tensor**"
      ],
      "metadata": {
        "id": "shdextyCjptw"
      }
    },
    {
      "cell_type": "markdown",
      "source": [
        "# **Empty Tensor**"
      ],
      "metadata": {
        "id": "xc6M3ZjNkLA9"
      }
    },
    {
      "cell_type": "code",
      "source": [
        "a=torch.empty(2,3) #2 rows and 3 colum empty tensor creat space in memory\n",
        "print(type(a))"
      ],
      "metadata": {
        "colab": {
          "base_uri": "https://localhost:8080/",
          "height": 0
        },
        "id": "ATyJTC6Vi5rV",
        "outputId": "633bd757-4844-4d76-c49e-7518e1067fca"
      },
      "execution_count": 14,
      "outputs": [
        {
          "output_type": "stream",
          "name": "stdout",
          "text": [
            "<class 'torch.Tensor'>\n"
          ]
        }
      ]
    },
    {
      "cell_type": "markdown",
      "source": [
        "# **zero tensor**"
      ],
      "metadata": {
        "id": "kGje108MkTZ2"
      }
    },
    {
      "cell_type": "code",
      "source": [
        "torch.zeros(2,4)"
      ],
      "metadata": {
        "colab": {
          "base_uri": "https://localhost:8080/",
          "height": 0
        },
        "id": "F3_tJXFCkClY",
        "outputId": "263668c7-a200-4d38-8665-cfa5342a5a79"
      },
      "execution_count": 15,
      "outputs": [
        {
          "output_type": "execute_result",
          "data": {
            "text/plain": [
              "tensor([[0., 0., 0., 0.],\n",
              "        [0., 0., 0., 0.]])"
            ]
          },
          "metadata": {},
          "execution_count": 15
        }
      ]
    },
    {
      "cell_type": "markdown",
      "source": [
        "# **one tensor**"
      ],
      "metadata": {
        "id": "t_2C2CCUkgrF"
      }
    },
    {
      "cell_type": "code",
      "source": [
        "torch.ones(2,3)"
      ],
      "metadata": {
        "colab": {
          "base_uri": "https://localhost:8080/",
          "height": 0
        },
        "id": "xnlnMyZ2kbP_",
        "outputId": "9f22430a-307e-4326-a08f-984e4c60c7d0"
      },
      "execution_count": 16,
      "outputs": [
        {
          "output_type": "execute_result",
          "data": {
            "text/plain": [
              "tensor([[1., 1., 1.],\n",
              "        [1., 1., 1.]])"
            ]
          },
          "metadata": {},
          "execution_count": 16
        }
      ]
    },
    {
      "cell_type": "markdown",
      "source": [
        "# **random tensor**"
      ],
      "metadata": {
        "id": "Kr4snY7nknmP"
      }
    },
    {
      "cell_type": "code",
      "source": [
        "torch.rand(2,2) #it make some random intialization"
      ],
      "metadata": {
        "colab": {
          "base_uri": "https://localhost:8080/",
          "height": 0
        },
        "id": "qld53hlBklcs",
        "outputId": "0c31fe6e-47bb-423e-8c6e-85a93bdc6496"
      },
      "execution_count": 18,
      "outputs": [
        {
          "output_type": "execute_result",
          "data": {
            "text/plain": [
              "tensor([[0.1645, 0.4956],\n",
              "        [0.5040, 0.5858]])"
            ]
          },
          "metadata": {},
          "execution_count": 18
        }
      ]
    },
    {
      "cell_type": "markdown",
      "source": [
        "# **use of seed**"
      ],
      "metadata": {
        "id": "AkmdwEMDkwFP"
      }
    },
    {
      "cell_type": "code",
      "source": [
        "torch.manual_seed(100) #reproducity\n",
        "torch.rand(2,2)"
      ],
      "metadata": {
        "colab": {
          "base_uri": "https://localhost:8080/",
          "height": 0
        },
        "id": "973zoebckrpC",
        "outputId": "df1ff4ef-dd44-4e8c-abff-64c8e4c57bf2"
      },
      "execution_count": 22,
      "outputs": [
        {
          "output_type": "execute_result",
          "data": {
            "text/plain": [
              "tensor([[0.1117, 0.8158],\n",
              "        [0.2626, 0.4839]])"
            ]
          },
          "metadata": {},
          "execution_count": 22
        }
      ]
    },
    {
      "cell_type": "markdown",
      "source": [
        "# **Custom tensor**"
      ],
      "metadata": {
        "id": "LmvoqKLOlLuE"
      }
    },
    {
      "cell_type": "code",
      "source": [
        "torch.tensor([[2,2],[2,4]]) #it is used for custom tensor"
      ],
      "metadata": {
        "colab": {
          "base_uri": "https://localhost:8080/",
          "height": 0
        },
        "id": "8aP6Z2gtk8CN",
        "outputId": "9dd40b3c-0c15-4db0-d2c6-d544273929fe"
      },
      "execution_count": 24,
      "outputs": [
        {
          "output_type": "execute_result",
          "data": {
            "text/plain": [
              "tensor([[2, 2],\n",
              "        [2, 4]])"
            ]
          },
          "metadata": {},
          "execution_count": 24
        }
      ]
    },
    {
      "cell_type": "code",
      "source": [
        "#other ways\n",
        "print(\"tensor arange\",torch.arange(0,12,3))\n",
        "\n",
        "#linespace\n",
        "print(\"Linespace tensor\",torch.linspace(0,10,10)) #linearspace\n",
        "\n",
        "#using eye\n",
        "print(\"eye tensor\",torch.eye(5)) #identity matrix daignoal will be same\n",
        "\n",
        "#using full\n",
        "\n",
        "print(\"full tensor\",torch.full((3,3),5))"
      ],
      "metadata": {
        "colab": {
          "base_uri": "https://localhost:8080/",
          "height": 0
        },
        "id": "KxFuB1LqlUi5",
        "outputId": "7f554f3c-11f9-46b7-90a5-c02a158a1b44"
      },
      "execution_count": 25,
      "outputs": [
        {
          "output_type": "stream",
          "name": "stdout",
          "text": [
            "tensor arange tensor([0, 3, 6, 9])\n",
            "Linespace tensor tensor([ 0.0000,  1.1111,  2.2222,  3.3333,  4.4444,  5.5556,  6.6667,  7.7778,\n",
            "         8.8889, 10.0000])\n",
            "eye tensor tensor([[1., 0., 0., 0., 0.],\n",
            "        [0., 1., 0., 0., 0.],\n",
            "        [0., 0., 1., 0., 0.],\n",
            "        [0., 0., 0., 1., 0.],\n",
            "        [0., 0., 0., 0., 1.]])\n",
            "full tensor tensor([[5, 5, 5],\n",
            "        [5, 5, 5],\n",
            "        [5, 5, 5]])\n"
          ]
        }
      ]
    },
    {
      "cell_type": "markdown",
      "source": [
        "# **How to check tensor shapes**"
      ],
      "metadata": {
        "id": "NpiBRIXkm_Es"
      }
    },
    {
      "cell_type": "code",
      "source": [
        "x = torch.tensor([[2,2,2],[2,2,2]])\n",
        "print(x)\n",
        "print(\"shape of tensor\",x.shape)"
      ],
      "metadata": {
        "colab": {
          "base_uri": "https://localhost:8080/",
          "height": 0
        },
        "id": "cFSXc15SmU6i",
        "outputId": "0642283e-6224-4f92-c416-a5c79830b376"
      },
      "execution_count": 29,
      "outputs": [
        {
          "output_type": "stream",
          "name": "stdout",
          "text": [
            "tensor([[2, 2, 2],\n",
            "        [2, 2, 2]])\n",
            "shape of tensor torch.Size([2, 3])\n"
          ]
        }
      ]
    },
    {
      "cell_type": "code",
      "source": [
        "torch.empty_like(x) #if we want to make same tensor with diffrent value"
      ],
      "metadata": {
        "colab": {
          "base_uri": "https://localhost:8080/",
          "height": 0
        },
        "id": "MPJiJprBnNia",
        "outputId": "daf7a63e-7b4b-4a6f-c0a6-05443818533f"
      },
      "execution_count": 30,
      "outputs": [
        {
          "output_type": "execute_result",
          "data": {
            "text/plain": [
              "tensor([[                  0, 7310593858020254331, 3616445622929465956],\n",
              "        [6068937142538677556, 3761977081101694257, 6501284931677008942]])"
            ]
          },
          "metadata": {},
          "execution_count": 30
        }
      ]
    },
    {
      "cell_type": "code",
      "source": [
        "torch.zeros_like(x)"
      ],
      "metadata": {
        "colab": {
          "base_uri": "https://localhost:8080/",
          "height": 0
        },
        "id": "RVokz3QCnaxC",
        "outputId": "ba31d8ba-dacd-44fe-a8d3-34ddd8133f11"
      },
      "execution_count": 31,
      "outputs": [
        {
          "output_type": "execute_result",
          "data": {
            "text/plain": [
              "tensor([[0, 0, 0],\n",
              "        [0, 0, 0]])"
            ]
          },
          "metadata": {},
          "execution_count": 31
        }
      ]
    },
    {
      "cell_type": "code",
      "source": [
        "torch.rand_like(x,dtype=torch.float32)"
      ],
      "metadata": {
        "colab": {
          "base_uri": "https://localhost:8080/",
          "height": 0
        },
        "id": "VSvwIuM-oylb",
        "outputId": "3d2baac3-51e2-4233-d10b-ed0bf5282241"
      },
      "execution_count": 44,
      "outputs": [
        {
          "output_type": "execute_result",
          "data": {
            "text/plain": [
              "tensor([[0.6765, 0.7539, 0.2627],\n",
              "        [0.0428, 0.2080, 0.1180]])"
            ]
          },
          "metadata": {},
          "execution_count": 44
        }
      ]
    },
    {
      "cell_type": "code",
      "source": [
        "torch.ones_like(x)"
      ],
      "metadata": {
        "colab": {
          "base_uri": "https://localhost:8080/",
          "height": 0
        },
        "id": "-GxDF35dnmeV",
        "outputId": "b5df2df3-184d-4d35-ada1-6bbec79b302e"
      },
      "execution_count": 32,
      "outputs": [
        {
          "output_type": "execute_result",
          "data": {
            "text/plain": [
              "tensor([[1, 1, 1],\n",
              "        [1, 1, 1]])"
            ]
          },
          "metadata": {},
          "execution_count": 32
        }
      ]
    },
    {
      "cell_type": "markdown",
      "source": [
        "# **To check the dataype of tensor**"
      ],
      "metadata": {
        "id": "KM5JFi3nn-Z-"
      }
    },
    {
      "cell_type": "code",
      "source": [
        "x.dtype"
      ],
      "metadata": {
        "colab": {
          "base_uri": "https://localhost:8080/",
          "height": 0
        },
        "id": "z_rJ_mycnqfC",
        "outputId": "2ab32c0f-2ac4-46d2-92a9-8ea58941205b"
      },
      "execution_count": 37,
      "outputs": [
        {
          "output_type": "execute_result",
          "data": {
            "text/plain": [
              "torch.int64"
            ]
          },
          "metadata": {},
          "execution_count": 37
        }
      ]
    },
    {
      "cell_type": "markdown",
      "source": [
        "# **How to specify DataType**"
      ],
      "metadata": {
        "id": "5Xk4TWv2oME9"
      }
    },
    {
      "cell_type": "code",
      "source": [
        "y = torch.tensor([[2,2,2],[2,2,2]],dtype=torch.float32)\n",
        "y.dtype\n",
        "print(y)"
      ],
      "metadata": {
        "colab": {
          "base_uri": "https://localhost:8080/",
          "height": 0
        },
        "id": "bPqqcxU4n3Vf",
        "outputId": "6ab6f6c9-aae5-489f-c3e4-f8749ea3be5f"
      },
      "execution_count": 39,
      "outputs": [
        {
          "output_type": "stream",
          "name": "stdout",
          "text": [
            "tensor([[2., 2., 2.],\n",
            "        [2., 2., 2.]])\n"
          ]
        }
      ]
    },
    {
      "cell_type": "markdown",
      "source": [
        "# **Change Existing datatype using** ***to***"
      ],
      "metadata": {
        "id": "y27rVtoToes7"
      }
    },
    {
      "cell_type": "code",
      "source": [
        "x.to(torch.float64)"
      ],
      "metadata": {
        "colab": {
          "base_uri": "https://localhost:8080/",
          "height": 0
        },
        "id": "TYxsqkCeoIbP",
        "outputId": "5d90f0ee-9e03-4a76-d97d-caf6b4bea991"
      },
      "execution_count": 40,
      "outputs": [
        {
          "output_type": "execute_result",
          "data": {
            "text/plain": [
              "tensor([[2., 2., 2.],\n",
              "        [2., 2., 2.]], dtype=torch.float64)"
            ]
          },
          "metadata": {},
          "execution_count": 40
        }
      ]
    },
    {
      "cell_type": "markdown",
      "source": [
        "# **DMAS Operation**"
      ],
      "metadata": {
        "id": "zKld_wWrpJLy"
      }
    },
    {
      "cell_type": "code",
      "source": [
        "a = torch.rand(2,2)\n",
        "print(a)"
      ],
      "metadata": {
        "colab": {
          "base_uri": "https://localhost:8080/",
          "height": 0
        },
        "id": "sjZrHAV5oaNN",
        "outputId": "ebd92ef3-d610-4b67-e955-c70c2a4e24c9"
      },
      "execution_count": 47,
      "outputs": [
        {
          "output_type": "stream",
          "name": "stdout",
          "text": [
            "tensor([[0.4183, 0.9014],\n",
            "        [0.9969, 0.7565]])\n"
          ]
        }
      ]
    },
    {
      "cell_type": "code",
      "source": [
        "#Addition\n",
        "print(\"addiditon\",x+2)\n",
        "\n",
        "#subtraction\n",
        "\n",
        "print(\"Subtraction\",x-2)\n",
        "#multiplication\n",
        "print(\"subtraction\",x*2)\n",
        "\n",
        "#division\n",
        "print(\"division\",x/2)\n",
        "\n",
        "\n",
        "#integer division\n",
        "print(\"integer divison\",(x*100)//3)\n"
      ],
      "metadata": {
        "colab": {
          "base_uri": "https://localhost:8080/",
          "height": 0
        },
        "id": "yuDUlGCIpRD2",
        "outputId": "4c0b1535-5f83-481a-ba3f-63f8e160d971"
      },
      "execution_count": 51,
      "outputs": [
        {
          "output_type": "stream",
          "name": "stdout",
          "text": [
            "addiditon tensor([[4, 4, 4],\n",
            "        [4, 4, 4]])\n",
            "Subtraction tensor([[0, 0, 0],\n",
            "        [0, 0, 0]])\n",
            "subtraction tensor([[4, 4, 4],\n",
            "        [4, 4, 4]])\n",
            "division tensor([[1., 1., 1.],\n",
            "        [1., 1., 1.]])\n",
            "integer divison tensor([[66, 66, 66],\n",
            "        [66, 66, 66]])\n"
          ]
        }
      ]
    },
    {
      "cell_type": "markdown",
      "source": [
        "# **Element wise operation**"
      ],
      "metadata": {
        "id": "Zdf53PYFy372"
      }
    },
    {
      "cell_type": "code",
      "source": [
        "import torch"
      ],
      "metadata": {
        "id": "QEI9j2XbqLwo"
      },
      "execution_count": 10,
      "outputs": []
    },
    {
      "cell_type": "code",
      "source": [],
      "metadata": {
        "id": "4Icpi_azzR5O"
      },
      "execution_count": null,
      "outputs": []
    }
  ]
}